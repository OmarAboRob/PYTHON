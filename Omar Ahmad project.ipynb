{
 "cells": [
  {
   "cell_type": "code",
   "execution_count": 1,
   "id": "eaa53cd9",
   "metadata": {},
   "outputs": [],
   "source": [
    "import timeit\n",
    "from time import time\n",
    "def timer(func):\n",
    "    def inner(*num):\n",
    "        begin = time()\n",
    "        func(*num)\n",
    "        end = time()\n",
    "        print(f\"Execution time by timer: {end - begin}\")\n",
    "    return inner\n",
    "\n"
   ]
  },
  {
   "cell_type": "code",
   "execution_count": 2,
   "id": "b5e7519a",
   "metadata": {},
   "outputs": [
    {
     "name": "stdout",
     "output_type": "stream",
     "text": [
      "Execution time by timer: 0.27191591262817383\n"
     ]
    }
   ],
   "source": [
    "@timer\n",
    "def waste_some_time(times):\n",
    "    for _ in range(times):\n",
    "        sum([i**2 for i in range(10000)])\n",
    "        \n",
    "waste_some_time(100)\n"
   ]
  },
  {
   "cell_type": "code",
   "execution_count": 3,
   "id": "a0cc66eb",
   "metadata": {},
   "outputs": [
    {
     "name": "stdout",
     "output_type": "stream",
     "text": [
      "Execution time by timeit: 0.27460840001003817 \n"
     ]
    }
   ],
   "source": [
    "def waste_some_time(times):\n",
    "    for _ in range(times):\n",
    "        sum([i**2 for i in range(10000)])\n",
    "\n",
    "timer = timeit.Timer(lambda: waste_some_time(100))\n",
    "ttaken = timer.timeit(number=1)\n",
    "\n",
    "print(f\"Execution time by timeit: {ttaken} \")"
   ]
  },
  {
   "cell_type": "code",
   "execution_count": null,
   "id": "3a604044",
   "metadata": {},
   "outputs": [],
   "source": []
  }
 ],
 "metadata": {
  "kernelspec": {
   "display_name": "Python 3 (ipykernel)",
   "language": "python",
   "name": "python3"
  },
  "language_info": {
   "codemirror_mode": {
    "name": "ipython",
    "version": 3
   },
   "file_extension": ".py",
   "mimetype": "text/x-python",
   "name": "python",
   "nbconvert_exporter": "python",
   "pygments_lexer": "ipython3",
   "version": "3.10.9"
  }
 },
 "nbformat": 4,
 "nbformat_minor": 5
}
